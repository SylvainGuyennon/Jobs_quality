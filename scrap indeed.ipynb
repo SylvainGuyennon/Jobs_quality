{
 "cells": [
  {
   "cell_type": "code",
   "execution_count": 14,
   "metadata": {},
   "outputs": [
    {
     "data": {
      "text/plain": [
       "bs4.element.ResultSet"
      ]
     },
     "execution_count": 14,
     "metadata": {},
     "output_type": "execute_result"
    }
   ],
   "source": [
    "from urllib.request import urlopen\n",
    "from bs4 import BeautifulSoup\n",
    "\n",
    "import pandas as pd\n",
    "\n",
    "\n",
    "page = urlopen(\"https://fr.indeed.com/emplois?q=Data+Analyst&limit=50\")\n",
    "soup = BeautifulSoup(page, 'html.parser')\n",
    "scripts = soup.findAll(\"script\")\n",
    "type(scripts)\n"
   ]
  },
  {
   "cell_type": "code",
   "execution_count": 40,
   "metadata": {},
   "outputs": [],
   "source": [
    "for i in range(len(scripts)): \n",
    "    if \"jobmap\" in str(scripts[i]):\n",
    "        jobmap_script = scripts[i]"
   ]
  },
  {
   "cell_type": "code",
   "execution_count": 110,
   "metadata": {},
   "outputs": [],
   "source": [
    "import re \n",
    "clean = str(jobmap_script)"
   ]
  },
  {
   "cell_type": "code",
   "execution_count": 119,
   "metadata": {},
   "outputs": [],
   "source": [
    "clean = re.sub(r\"[-()\\\"#/@;<>{}`+~|.!?,]\", \" \", clean)"
   ]
  },
  {
   "cell_type": "code",
   "execution_count": 156,
   "metadata": {},
   "outputs": [
    {
     "name": "stdout",
     "output_type": "stream",
     "text": [
      "['2d7e513fec05f54d', 'ae89d6ea7439eee0', '724876815d13fb4c', 'b8ab26a2ba3b625f', '555109e3436455fc', 'c6cde8d622b23c1c', '032fa5693918dcd5', '9bbe23e6ee6395b6', '1bcc361e4971d9aa', '6c6986ae68efa25d', '0120aadb302e47a0', '24093fc1137e30dc', 'b3fe49e99b9cdc7e', 'c5c3f599121fa464', '56eb242d64b0c45f', '9b83deab903f2a35', '3300593e690ff1ab', '62511b7c436587b1', 'db6a02ac53fb65dc', '79d1b60e0e82e120', '2be3e289f301292f', '631eb04b8315427e', '9925a5171d4091ba', 'ae89f3d9d7a7e2b1', 'd05c9fab90f9e1b6', '694f746029df1a47', 'fb7ff3633ff151d8', '9d94c6cf80ec1aac', '7c59f2e96fde4cc2', 'bf2be75623f7d20e', '342f317f6681028b', '7307dae6792c6203', 'e1ea79c106e765a5', '36487fac77768057', '1a8117d1db9bb819', 'e22ab50f872c180a', '3c06116fc5a12acf', 'c964a4de9f501262', '3d1d471b1f46922d', 'bec49398bb659571', '50dd74e49f8c75a7', 'fa45ef04b4781456', 'c469e42cc95bb272', '734f320484f3988b', 'd4a4708d6d2fafd9', 'c49cfd75138ea0b7', '301cad17cc0590ef', 'd86639aa40217160', '4d99e586ac3826b5', 'a278a8d218a639a4']\n"
     ]
    }
   ],
   "source": [
    "position = [m.start() for m in re.finditer(\"jk\", clean)]\n",
    "liste_id = []\n",
    "\n",
    "for i in position : \n",
    "    liste_id.append(clean[i+4:i+20])\n",
    "\n",
    "del liste_id[0:10]\n",
    "\n",
    "print(liste_id)"
   ]
  },
  {
   "cell_type": "code",
   "execution_count": null,
   "metadata": {},
   "outputs": [],
   "source": []
  },
  {
   "cell_type": "code",
   "execution_count": null,
   "metadata": {},
   "outputs": [],
   "source": []
  }
 ],
 "metadata": {
  "kernelspec": {
   "display_name": "Python 3",
   "language": "python",
   "name": "python3"
  },
  "language_info": {
   "codemirror_mode": {
    "name": "ipython",
    "version": 3
   },
   "file_extension": ".py",
   "mimetype": "text/x-python",
   "name": "python",
   "nbconvert_exporter": "python",
   "pygments_lexer": "ipython3",
   "version": "3.8.3"
  }
 },
 "nbformat": 4,
 "nbformat_minor": 4
}
