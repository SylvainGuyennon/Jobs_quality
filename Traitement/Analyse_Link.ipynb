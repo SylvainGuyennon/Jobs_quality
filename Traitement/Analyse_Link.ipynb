{
 "cells": [
  {
   "cell_type": "code",
   "execution_count": 92,
   "metadata": {},
   "outputs": [],
   "source": [
    "import pandas as pd\n",
    "df = pd.read_csv(\"data_linkedin.csv\",index_col=0)"
   ]
  },
  {
   "cell_type": "code",
   "execution_count": 93,
   "metadata": {},
   "outputs": [
    {
     "data": {
      "text/html": [
       "<div>\n",
       "<style scoped>\n",
       "    .dataframe tbody tr th:only-of-type {\n",
       "        vertical-align: middle;\n",
       "    }\n",
       "\n",
       "    .dataframe tbody tr th {\n",
       "        vertical-align: top;\n",
       "    }\n",
       "\n",
       "    .dataframe thead th {\n",
       "        text-align: right;\n",
       "    }\n",
       "</style>\n",
       "<table border=\"1\" class=\"dataframe\">\n",
       "  <thead>\n",
       "    <tr style=\"text-align: right;\">\n",
       "      <th></th>\n",
       "      <th>intitule</th>\n",
       "      <th>entreprise</th>\n",
       "      <th>Type Contrat</th>\n",
       "      <th>Niveau Experience</th>\n",
       "      <th>texte</th>\n",
       "    </tr>\n",
       "  </thead>\n",
       "  <tbody>\n",
       "    <tr>\n",
       "      <th>0</th>\n",
       "      <td>Stage Data Analyst H/F - Paris - Janvier 2021</td>\n",
       "      <td>Jobmania</td>\n",
       "      <td>Full-time</td>\n",
       "      <td>Entry level</td>\n",
       "      <td>['– Vous serez en charge du traitement des don...</td>\n",
       "    </tr>\n",
       "    <tr>\n",
       "      <th>1</th>\n",
       "      <td>STAGE - DATA ANALYST F/H</td>\n",
       "      <td>JOBINLIVE</td>\n",
       "      <td>Full-time</td>\n",
       "      <td>Entry level</td>\n",
       "      <td>[\"Description du poste JOBINLIVE recrute pour ...</td>\n",
       "    </tr>\n",
       "    <tr>\n",
       "      <th>2</th>\n",
       "      <td>Stage Data Analyst H/F</td>\n",
       "      <td>dentsu international</td>\n",
       "      <td>Full-time</td>\n",
       "      <td>Entry level</td>\n",
       "      <td>[\"Afin de renforcer notre équipe, nous recherc...</td>\n",
       "    </tr>\n",
       "    <tr>\n",
       "      <th>3</th>\n",
       "      <td>VIE Business Analyst IT - German speaker</td>\n",
       "      <td>ODDO BHF</td>\n",
       "      <td>Full-time</td>\n",
       "      <td>Entry level</td>\n",
       "      <td>[ Company: ,  , ODDO BHF is an independent Fra...</td>\n",
       "    </tr>\n",
       "    <tr>\n",
       "      <th>4</th>\n",
       "      <td>Analyste de données ESMS F/H</td>\n",
       "      <td>Sécurité sociale</td>\n",
       "      <td>Full-time</td>\n",
       "      <td>Entry level</td>\n",
       "      <td>[\"Description du poste Le pôle programmation p...</td>\n",
       "    </tr>\n",
       "    <tr>\n",
       "      <th>...</th>\n",
       "      <td>...</td>\n",
       "      <td>...</td>\n",
       "      <td>...</td>\n",
       "      <td>...</td>\n",
       "      <td>...</td>\n",
       "    </tr>\n",
       "    <tr>\n",
       "      <th>379</th>\n",
       "      <td>Data Analyst H/F</td>\n",
       "      <td>VERTICAL-RH</td>\n",
       "      <td>Full-time</td>\n",
       "      <td>Entry level</td>\n",
       "      <td>['Notre client, incontournable pour les partic...</td>\n",
       "    </tr>\n",
       "    <tr>\n",
       "      <th>380</th>\n",
       "      <td>Data Analyst Site de Wasquehal H/F</td>\n",
       "      <td>EOS France</td>\n",
       "      <td>Full-time</td>\n",
       "      <td>Entry level</td>\n",
       "      <td>[ Intégré(e) Au Sein D'une Équipe De Statistic...</td>\n",
       "    </tr>\n",
       "    <tr>\n",
       "      <th>381</th>\n",
       "      <td>DATA ANALYST</td>\n",
       "      <td>INFORMATIS-TS</td>\n",
       "      <td>Full-time</td>\n",
       "      <td>Entry level</td>\n",
       "      <td>['Dans le cadre d’un important projet avec une...</td>\n",
       "    </tr>\n",
       "    <tr>\n",
       "      <th>382</th>\n",
       "      <td>Financial Analyst</td>\n",
       "      <td>Wiley</td>\n",
       "      <td>Full-time</td>\n",
       "      <td>Entry level</td>\n",
       "      <td>['Location: Suresnes, France',  , 'Company: Cr...</td>\n",
       "    </tr>\n",
       "    <tr>\n",
       "      <th>383</th>\n",
       "      <td>ALTERNANCE ASSISTANT BUSINESS &amp; DATA ANALYST (...</td>\n",
       "      <td>Verisure par Securitas Direct</td>\n",
       "      <td>Full-time</td>\n",
       "      <td>Entry level</td>\n",
       "      <td>['Devenez notre prochain Alternant Assistant B...</td>\n",
       "    </tr>\n",
       "  </tbody>\n",
       "</table>\n",
       "<p>384 rows × 5 columns</p>\n",
       "</div>"
      ],
      "text/plain": [
       "                                              intitule  \\\n",
       "0        Stage Data Analyst H/F - Paris - Janvier 2021   \n",
       "1                             STAGE - DATA ANALYST F/H   \n",
       "2                               Stage Data Analyst H/F   \n",
       "3             VIE Business Analyst IT - German speaker   \n",
       "4                         Analyste de données ESMS F/H   \n",
       "..                                                 ...   \n",
       "379                                   Data Analyst H/F   \n",
       "380                 Data Analyst Site de Wasquehal H/F   \n",
       "381                                       DATA ANALYST   \n",
       "382                                  Financial Analyst   \n",
       "383  ALTERNANCE ASSISTANT BUSINESS & DATA ANALYST (...   \n",
       "\n",
       "                        entreprise Type Contrat Niveau Experience  \\\n",
       "0                         Jobmania    Full-time       Entry level   \n",
       "1                        JOBINLIVE    Full-time       Entry level   \n",
       "2             dentsu international    Full-time       Entry level   \n",
       "3                         ODDO BHF    Full-time       Entry level   \n",
       "4                 Sécurité sociale    Full-time       Entry level   \n",
       "..                             ...          ...               ...   \n",
       "379                    VERTICAL-RH    Full-time       Entry level   \n",
       "380                     EOS France    Full-time       Entry level   \n",
       "381                  INFORMATIS-TS    Full-time       Entry level   \n",
       "382                          Wiley    Full-time       Entry level   \n",
       "383  Verisure par Securitas Direct    Full-time       Entry level   \n",
       "\n",
       "                                                 texte  \n",
       "0    ['– Vous serez en charge du traitement des don...  \n",
       "1    [\"Description du poste JOBINLIVE recrute pour ...  \n",
       "2    [\"Afin de renforcer notre équipe, nous recherc...  \n",
       "3    [ Company: ,  , ODDO BHF is an independent Fra...  \n",
       "4    [\"Description du poste Le pôle programmation p...  \n",
       "..                                                 ...  \n",
       "379  ['Notre client, incontournable pour les partic...  \n",
       "380  [ Intégré(e) Au Sein D'une Équipe De Statistic...  \n",
       "381  ['Dans le cadre d’un important projet avec une...  \n",
       "382  ['Location: Suresnes, France',  , 'Company: Cr...  \n",
       "383  ['Devenez notre prochain Alternant Assistant B...  \n",
       "\n",
       "[384 rows x 5 columns]"
      ]
     },
     "execution_count": 93,
     "metadata": {},
     "output_type": "execute_result"
    }
   ],
   "source": [
    "df"
   ]
  },
  {
   "cell_type": "code",
   "execution_count": 94,
   "metadata": {},
   "outputs": [],
   "source": [
    "df[\"texte\"] = df['texte'].apply(lambda x: x.replace(\"'\", \"\").replace(\"[\", \"\").replace(\"]\", \"\").replace(\"–\", \"\").replace(\"\\\\\",\"\").replace(\"<ul>\",\"\").replace(\"<li>\",\"\").replace('</li>', '').replace(\"</ul>\", ' '))"
   ]
  },
  {
   "cell_type": "code",
   "execution_count": 133,
   "metadata": {},
   "outputs": [],
   "source": [
    "df['stage_i'] = 0\n",
    "df['stage_i'] = df['intitule'].apply(lambda x: 1 if \"Stagiaire\" in x or \"stagiaire\" in x or \"STAGIAIRE\" in x or \"Stage\" in x or \"STAGE\" in x or \"stage\" in x else 0)"
   ]
  },
  {
   "cell_type": "code",
   "execution_count": 134,
   "metadata": {},
   "outputs": [],
   "source": [
    "df['stage_t'] = 0\n",
    "df['stage_t'] = df['texte'].apply(lambda x: 1 if \"Stagiaire\" in x or \"stagiaire\" in x or \"STAGIAIRE\" in x or \"Stage\" in x or \"STAGE\" in x or \"stage\" in x else 0)"
   ]
  },
  {
   "cell_type": "code",
   "execution_count": 156,
   "metadata": {},
   "outputs": [
    {
     "data": {
      "text/plain": [
       "187"
      ]
     },
     "execution_count": 156,
     "metadata": {},
     "output_type": "execute_result"
    }
   ],
   "source": [
    "len(df.query('stage_t == 1 or stage_i ==1'))"
   ]
  },
  {
   "cell_type": "code",
   "execution_count": 157,
   "metadata": {},
   "outputs": [
    {
     "data": {
      "text/plain": [
       "0.4869791666666667"
      ]
     },
     "execution_count": 157,
     "metadata": {},
     "output_type": "execute_result"
    }
   ],
   "source": [
    "187/384"
   ]
  },
  {
   "cell_type": "code",
   "execution_count": null,
   "metadata": {},
   "outputs": [],
   "source": []
  }
 ],
 "metadata": {
  "kernelspec": {
   "display_name": "Python 3",
   "language": "python",
   "name": "python3"
  },
  "language_info": {
   "codemirror_mode": {
    "name": "ipython",
    "version": 3
   },
   "file_extension": ".py",
   "mimetype": "text/x-python",
   "name": "python",
   "nbconvert_exporter": "python",
   "pygments_lexer": "ipython3",
   "version": "3.8.3"
  }
 },
 "nbformat": 4,
 "nbformat_minor": 4
}
